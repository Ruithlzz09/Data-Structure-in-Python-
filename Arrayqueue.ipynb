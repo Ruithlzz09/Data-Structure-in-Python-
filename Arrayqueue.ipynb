{
 "cells": [
  {
   "cell_type": "code",
   "execution_count": 102,
   "metadata": {},
   "outputs": [],
   "source": [
    "\n",
    "class arrayqueue:\n",
    "\t\"\"\" FIFO Implementation i.e. Queue Data Structure using Python List\"\"\"\n",
    "\n",
    "\n",
    "\tdef __init__(self,buffer=[],front=0,rear=0,limit=3): #User Need to pass front and rear index incase of passing buffer elements\n",
    "\t\t\"\"\" \"\"\"\n",
    "\t\tself._data=[None]*limit\n",
    "\t\tself._front,self._size=0,0\n",
    "\t\tself._limit=limit\n",
    "\t\tif buffer:\n",
    "\t\t\tself._data=buffer._data\n",
    "\t\t\tself._front,self._size=buffer._front,buffer._size\n",
    "\t\t\tself._limit=buffer._limit\n",
    "\n",
    "\tdef is_empty(self):\n",
    "\t\t\"\"\" \"\"\"\n",
    "\t\treturn self._size==0\n",
    "\n",
    "\tdef first(self):\n",
    "\t\t\"\"\" \"\"\"\n",
    "\t\tif self.is_empty():\n",
    "\t\t\tprint(\"Queue is Empty\")\n",
    "\t\t\treturn\n",
    "\t\treturn self._data[self._front]\n",
    "\n",
    "\tdef enqueue(self,e):\n",
    "\t\t\"\"\" \"\"\"\n",
    "\t\tif self.is_empty():\n",
    "\t\t\tavail=0\n",
    "\t\telse:\n",
    "\t\t\tif self._limit==self._size:\n",
    "\t\t\t\tself._resize(2*self._size) # Double Queue size\n",
    "\t\t\tavail=(self._front+self._size)%self._limit\n",
    "\t\tself._data[avail]=e\n",
    "\t\tself._size+=1\n",
    "\n",
    "\tdef dequeue(self):\n",
    "\t\t\"\"\" \"\"\"\n",
    "\t\tif self.is_empty():\n",
    "\t\t\tprint(\"Queue is Empty\")\n",
    "\t\t\treturn\n",
    "        if ( 0 < (self._size) < self._limit//4 ):\n",
    "            self._resize(self._size//2)\n",
    "\t\telement=self._data[self._front]\n",
    "\t\tself._data[self._front]=None\n",
    "\t\tself._front=(self._front+1)%self._size\n",
    "\t\tself._size-=1\n",
    "\t\treturn element\n",
    "\n",
    "\tdef show_queue(self):\n",
    "\t\t\"\"\" \"\"\"\n",
    "\t\tif self.is_empty():\n",
    "\t\t\tprint(\"Queue is Empty\")\n",
    "\t\t\treturn\n",
    "\t\tfor i in range(self._size):\n",
    "\t\t\tprint(self._data[i],end='\\t')\n",
    "\n",
    "\tdef _resize(self,size):\n",
    "\t\t\"\"\" \"\"\"\n",
    "\t\told=self._data\n",
    "\t\tself._data=[None]*size\n",
    "\t\twalk=self._front\n",
    "\t\tfor i in range(self._size):\n",
    "\t\t\tself._data[i]=old[walk]\n",
    "\t\t\twalk=(walk+1)%self._size\n",
    "\t\tself._front=0\n",
    "\t\tself._limit=size\n",
    "\n",
    "\n",
    "\n",
    "\tdef __len__(self):\n",
    "\t\t\"\"\" \"\"\" \n",
    "\t\treturn self._size\n",
    "\n",
    "\n",
    "\tdef __str__(self):\n",
    "\t\t\"\"\" \"\"\"\n",
    "\t\treturn \"Front:{0} index {1} size:{2}\".format(self._data[self._front],self._front,self._size)\n",
    "\t\t\n",
    "\n",
    "\n"
   ]
  },
  {
   "cell_type": "code",
   "execution_count": 82,
   "metadata": {},
   "outputs": [],
   "source": [
    "x=arrayqueue()"
   ]
  },
  {
   "cell_type": "code",
   "execution_count": 83,
   "metadata": {},
   "outputs": [
    {
     "name": "stdout",
     "output_type": "stream",
     "text": [
      "Front:None size:0\n"
     ]
    }
   ],
   "source": [
    "print(x)"
   ]
  },
  {
   "cell_type": "code",
   "execution_count": 84,
   "metadata": {},
   "outputs": [
    {
     "name": "stdout",
     "output_type": "stream",
     "text": [
      "Queue is Empty\n"
     ]
    }
   ],
   "source": [
    "x.show_queue()"
   ]
  },
  {
   "cell_type": "code",
   "execution_count": 85,
   "metadata": {},
   "outputs": [],
   "source": [
    "x.enqueue(45)"
   ]
  },
  {
   "cell_type": "code",
   "execution_count": 86,
   "metadata": {},
   "outputs": [
    {
     "name": "stdout",
     "output_type": "stream",
     "text": [
      "45\t"
     ]
    }
   ],
   "source": [
    "x.show_queue()"
   ]
  },
  {
   "cell_type": "code",
   "execution_count": 87,
   "metadata": {},
   "outputs": [
    {
     "name": "stdout",
     "output_type": "stream",
     "text": [
      "Front:45 size:1\n"
     ]
    }
   ],
   "source": [
    "print(x)"
   ]
  },
  {
   "cell_type": "code",
   "execution_count": 88,
   "metadata": {},
   "outputs": [],
   "source": [
    "x.enqueue(5)\n",
    "x.enqueue(55)"
   ]
  },
  {
   "cell_type": "code",
   "execution_count": 89,
   "metadata": {},
   "outputs": [
    {
     "name": "stdout",
     "output_type": "stream",
     "text": [
      "Front:45 size:3\n"
     ]
    }
   ],
   "source": [
    "print(x)"
   ]
  },
  {
   "cell_type": "code",
   "execution_count": 90,
   "metadata": {},
   "outputs": [
    {
     "name": "stdout",
     "output_type": "stream",
     "text": [
      "45\t5\t55\t"
     ]
    }
   ],
   "source": [
    "x.show_queue()"
   ]
  },
  {
   "cell_type": "code",
   "execution_count": 91,
   "metadata": {},
   "outputs": [],
   "source": [
    "x.enqueue(554)"
   ]
  },
  {
   "cell_type": "code",
   "execution_count": 92,
   "metadata": {},
   "outputs": [
    {
     "name": "stdout",
     "output_type": "stream",
     "text": [
      "45\t5\t55\t554\t"
     ]
    }
   ],
   "source": [
    "x.show_queue()"
   ]
  },
  {
   "cell_type": "code",
   "execution_count": 93,
   "metadata": {},
   "outputs": [
    {
     "data": {
      "text/plain": [
       "6"
      ]
     },
     "execution_count": 93,
     "metadata": {},
     "output_type": "execute_result"
    }
   ],
   "source": [
    "x._limit"
   ]
  },
  {
   "cell_type": "code",
   "execution_count": 94,
   "metadata": {},
   "outputs": [
    {
     "name": "stdout",
     "output_type": "stream",
     "text": [
      "Front:45 size:4\n"
     ]
    }
   ],
   "source": [
    "print(x)"
   ]
  },
  {
   "cell_type": "code",
   "execution_count": 95,
   "metadata": {},
   "outputs": [
    {
     "data": {
      "text/plain": [
       "45"
      ]
     },
     "execution_count": 95,
     "metadata": {},
     "output_type": "execute_result"
    }
   ],
   "source": [
    "x.dequeue()"
   ]
  },
  {
   "cell_type": "code",
   "execution_count": 96,
   "metadata": {},
   "outputs": [
    {
     "name": "stdout",
     "output_type": "stream",
     "text": [
      "Front:5 size:3\n"
     ]
    }
   ],
   "source": [
    "print(x)"
   ]
  },
  {
   "cell_type": "code",
   "execution_count": 97,
   "metadata": {},
   "outputs": [
    {
     "name": "stdout",
     "output_type": "stream",
     "text": [
      "None\t5\t55\t"
     ]
    }
   ],
   "source": [
    "x.show_queue()"
   ]
  },
  {
   "cell_type": "code",
   "execution_count": 98,
   "metadata": {},
   "outputs": [
    {
     "data": {
      "text/plain": [
       "6"
      ]
     },
     "execution_count": 98,
     "metadata": {},
     "output_type": "execute_result"
    }
   ],
   "source": [
    "x._limit"
   ]
  },
  {
   "cell_type": "code",
   "execution_count": 99,
   "metadata": {},
   "outputs": [
    {
     "name": "stdout",
     "output_type": "stream",
     "text": [
      "Front:5 size:3\n",
      "None\t5\t55\t"
     ]
    }
   ],
   "source": [
    "print(x)\n",
    "x.show_queue()"
   ]
  },
  {
   "cell_type": "code",
   "execution_count": 100,
   "metadata": {},
   "outputs": [],
   "source": [
    "x.enqueue(54754)\n",
    "x.enqueue(5754)\n",
    "x.dequeue()\n",
    "x.enqueue(5474)\n",
    "x.dequeue()\n",
    "x.enqueue(55484)\n",
    "x.enqueue(45)"
   ]
  },
  {
   "cell_type": "code",
   "execution_count": 101,
   "metadata": {},
   "outputs": [
    {
     "name": "stdout",
     "output_type": "stream",
     "text": [
      "Front:554 size:6\n",
      "5474\t55484\t45\t554\t54754\t5754\t"
     ]
    }
   ],
   "source": [
    "print(x)\n",
    "x.show_queue()"
   ]
  },
  {
   "cell_type": "code",
   "execution_count": 103,
   "metadata": {},
   "outputs": [],
   "source": [
    "c=arrayqueue(x)"
   ]
  },
  {
   "cell_type": "code",
   "execution_count": 104,
   "metadata": {},
   "outputs": [
    {
     "name": "stdout",
     "output_type": "stream",
     "text": [
      "Front:554 index 3 size:6\n"
     ]
    }
   ],
   "source": [
    "print(c)"
   ]
  },
  {
   "cell_type": "code",
   "execution_count": 105,
   "metadata": {},
   "outputs": [
    {
     "data": {
      "text/plain": [
       "6"
      ]
     },
     "execution_count": 105,
     "metadata": {},
     "output_type": "execute_result"
    }
   ],
   "source": [
    "c._limit"
   ]
  },
  {
   "cell_type": "code",
   "execution_count": 106,
   "metadata": {},
   "outputs": [
    {
     "data": {
      "text/plain": [
       "6"
      ]
     },
     "execution_count": 106,
     "metadata": {},
     "output_type": "execute_result"
    }
   ],
   "source": [
    "c._size"
   ]
  },
  {
   "cell_type": "code",
   "execution_count": 107,
   "metadata": {},
   "outputs": [],
   "source": [
    "c.enqueue(5)"
   ]
  },
  {
   "cell_type": "code",
   "execution_count": 108,
   "metadata": {},
   "outputs": [
    {
     "name": "stdout",
     "output_type": "stream",
     "text": [
      "Front:554 index 0 size:7\n",
      "554\t54754\t5754\t5474\t55484\t45\t5\t"
     ]
    }
   ],
   "source": [
    "print(c)\n",
    "c.show_queue()"
   ]
  },
  {
   "cell_type": "code",
   "execution_count": 2,
   "metadata": {},
   "outputs": [
    {
     "data": {
      "text/plain": [
       "3"
      ]
     },
     "execution_count": 2,
     "metadata": {},
     "output_type": "execute_result"
    }
   ],
   "source": [
    "13//4\n"
   ]
  },
  {
   "cell_type": "code",
   "execution_count": null,
   "metadata": {},
   "outputs": [],
   "source": []
  }
 ],
 "metadata": {
  "kernelspec": {
   "display_name": "Python 3",
   "language": "python",
   "name": "python3"
  },
  "language_info": {
   "codemirror_mode": {
    "name": "ipython",
    "version": 3
   },
   "file_extension": ".py",
   "mimetype": "text/x-python",
   "name": "python",
   "nbconvert_exporter": "python",
   "pygments_lexer": "ipython3",
   "version": "3.6.3"
  }
 },
 "nbformat": 4,
 "nbformat_minor": 2
}
