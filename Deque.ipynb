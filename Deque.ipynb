{
 "cells": [
  {
   "cell_type": "code",
   "execution_count": 34,
   "metadata": {},
   "outputs": [],
   "source": [
    "class _node:\n",
    "    \"\"\"A Lightweight non- public class to create nodes of linked list serves as Element of Queue\"\"\"\n",
    "\n",
    "\n",
    "    def __init__(self,e,next=None):\n",
    "        \"\"\" \"\"\"\n",
    "        self._element=e\n",
    "        self._next=next\n",
    "\n",
    "class Deque(_node):\n",
    "    \"\"\"\"\"\"\n",
    "\n",
    "    def __init__(self,buffer=None): #buffer denotes using another Queue as base/initial elements for current Queue \n",
    "        \"\"\"It initialise Queue with its size and tail\"\"\"\n",
    "        self._tail,self._size=None,0\n",
    "        if buffer:\n",
    "            self._tail,self._size=buffer._tail,buffer._size\n",
    "\n",
    "    def __len__(self):\n",
    "        \"\"\"It returns the size of Queue\"\"\"\n",
    "        return self._size\n",
    "\n",
    "    def __str__(self,head=None):\n",
    "        \"\"\"It return the current head and size of Queue\"\"\"\n",
    "        if not(self.is_empty() ):\n",
    "            head=self._tail._next._element\n",
    "        return \"{0} {1}\".format(head,self._size)\n",
    "\n",
    "    def is_empty(self):\n",
    "        \"\"\"It checks whether Queue is Empty or not\"\"\"\n",
    "        return self._size==0\n",
    "\n",
    "    def first(self):\n",
    "        \"\"\"It returns the current head/first element of Queue\"\"\"\n",
    "        if self.is_empty():\n",
    "            print(\"Queue is Empty\")\n",
    "            return\n",
    "        return (self._tail._next)._element\n",
    "    \n",
    "    def last(self):\n",
    "        \"\"\"It returns the current head/first element of Queue\"\"\"\n",
    "        if self.is_empty():\n",
    "            print(\"Queue is Empty\")\n",
    "            return\n",
    "        return (self._tail)._element\n",
    "\n",
    "    def add_last(self,e):\n",
    "        \"\"\"It is used to Enqueue/insert element in Queue\"\"\"\n",
    "        new=_node(e)\n",
    "        if self.is_empty():\n",
    "            new._next=new\n",
    "        else:\n",
    "            new._next=self._tail._next\n",
    "            self._tail._next=new\n",
    "        self._tail=new\n",
    "        self._size+=1\n",
    "        \n",
    "    def add_first(self,e):\n",
    "        \"\"\"It is used to Enqueue/insert element in Queue\"\"\"\n",
    "        new=_node(e)\n",
    "        if self.is_empty():\n",
    "            new._next=new\n",
    "            self._tail=new\n",
    "        else:\n",
    "            new._next=self._tail._next\n",
    "            self._tail._next=new\n",
    "        self._size+=1\n",
    "        \n",
    "    def delete_first(self):\n",
    "        \"\"\" \"\"\"\n",
    "        if self.is_empty():\n",
    "            print(\"Queue is Empty\")\n",
    "            return\n",
    "        \n",
    "        oldhead=self._tail._next\n",
    "        \n",
    "        if self._size==1:\n",
    "            self._tail=None\n",
    "        else:\n",
    "            self._tail._next=oldhead._next\n",
    "        self._size-=1\n",
    "        return oldhead._element\n",
    "    \n",
    "    def delete_last(self):\n",
    "        \"\"\" \"\"\"\n",
    "        if self.is_empty():\n",
    "            print(\"Queue is Empty\")\n",
    "            return\n",
    "        \n",
    "        oldtail=self._tail\n",
    "        if self._size==1:\n",
    "            self._tail=None\n",
    "        else:\n",
    "            x=oldtail._next\n",
    "            while x._next!=oldtail:\n",
    "                x=x._next\n",
    "            x._next=oldtail._next\n",
    "            self._tail=x\n",
    "        self._size-=1\n",
    "        return oldtail._element\n",
    "    \n",
    "    def show_queue(self):\n",
    "        \"\"\" \"\"\"\n",
    "        if self.is_empty():\n",
    "            print(\"Queue is Empty\")\n",
    "        else:\n",
    "            head=self._tail._next\n",
    "            while head!=self._tail:\n",
    "                print(head._element,end='\\t')\n",
    "                head=head._next\n",
    "            print(head._element)\n",
    "            \n",
    "\n",
    "\n"
   ]
  },
  {
   "cell_type": "code",
   "execution_count": 35,
   "metadata": {},
   "outputs": [],
   "source": [
    "D=Deque()"
   ]
  },
  {
   "cell_type": "code",
   "execution_count": 36,
   "metadata": {},
   "outputs": [
    {
     "name": "stdout",
     "output_type": "stream",
     "text": [
      "None 0\n"
     ]
    }
   ],
   "source": [
    "print(D)"
   ]
  },
  {
   "cell_type": "code",
   "execution_count": 37,
   "metadata": {},
   "outputs": [
    {
     "name": "stdout",
     "output_type": "stream",
     "text": [
      "5\n",
      "5 1 None\n"
     ]
    }
   ],
   "source": [
    "D.add_last(5)\n",
    "print(D,D.show_queue())"
   ]
  },
  {
   "cell_type": "code",
   "execution_count": 38,
   "metadata": {},
   "outputs": [
    {
     "name": "stdout",
     "output_type": "stream",
     "text": [
      "3\t5\n",
      "3 2 None\n"
     ]
    }
   ],
   "source": [
    "D.add_first(3)\n",
    "print(D,D.show_queue())"
   ]
  },
  {
   "cell_type": "code",
   "execution_count": 39,
   "metadata": {},
   "outputs": [
    {
     "name": "stdout",
     "output_type": "stream",
     "text": [
      "7\t3\t5\n",
      "7 3 None\n"
     ]
    }
   ],
   "source": [
    "D.add_first(7)\n",
    "print(D,D.show_queue())"
   ]
  },
  {
   "cell_type": "code",
   "execution_count": 40,
   "metadata": {},
   "outputs": [
    {
     "name": "stdout",
     "output_type": "stream",
     "text": [
      "7\t3\t5\n",
      "7 3 None\n"
     ]
    }
   ],
   "source": [
    "D.first()\n",
    "print(D,D.show_queue())"
   ]
  },
  {
   "cell_type": "code",
   "execution_count": 41,
   "metadata": {},
   "outputs": [
    {
     "name": "stdout",
     "output_type": "stream",
     "text": [
      "7\t3\n",
      "7 2 None\n"
     ]
    }
   ],
   "source": [
    "D.delete_last()\n",
    "print(D,D.show_queue())"
   ]
  },
  {
   "cell_type": "code",
   "execution_count": 42,
   "metadata": {},
   "outputs": [
    {
     "name": "stdout",
     "output_type": "stream",
     "text": [
      "7\n",
      "7 1 None\n"
     ]
    }
   ],
   "source": [
    "D.delete_last()\n",
    "print(D,D.show_queue())"
   ]
  },
  {
   "cell_type": "code",
   "execution_count": 43,
   "metadata": {},
   "outputs": [
    {
     "name": "stdout",
     "output_type": "stream",
     "text": [
      "Queue is Empty\n",
      "None 0 None\n"
     ]
    }
   ],
   "source": [
    "D.delete_last()\n",
    "print(D,D.show_queue())"
   ]
  },
  {
   "cell_type": "code",
   "execution_count": 44,
   "metadata": {},
   "outputs": [
    {
     "name": "stdout",
     "output_type": "stream",
     "text": [
      "6\n",
      "6 1 None\n"
     ]
    }
   ],
   "source": [
    "D.add_first(6)\n",
    "print(D,D.show_queue())"
   ]
  },
  {
   "cell_type": "code",
   "execution_count": 45,
   "metadata": {},
   "outputs": [
    {
     "name": "stdout",
     "output_type": "stream",
     "text": [
      "6\n",
      "6 1 None\n"
     ]
    }
   ],
   "source": [
    "D.last()\n",
    "print(D,D.show_queue())"
   ]
  },
  {
   "cell_type": "code",
   "execution_count": 46,
   "metadata": {},
   "outputs": [
    {
     "name": "stdout",
     "output_type": "stream",
     "text": [
      "8\t6\n",
      "8 2 None\n"
     ]
    }
   ],
   "source": [
    "D.add_first(8)\n",
    "print(D,D.show_queue())"
   ]
  },
  {
   "cell_type": "code",
   "execution_count": 47,
   "metadata": {},
   "outputs": [
    {
     "name": "stdout",
     "output_type": "stream",
     "text": [
      "8\t6\n",
      "8 2 None\n"
     ]
    }
   ],
   "source": [
    "D.is_empty()\n",
    "print(D,D.show_queue())"
   ]
  },
  {
   "cell_type": "code",
   "execution_count": 48,
   "metadata": {},
   "outputs": [
    {
     "name": "stdout",
     "output_type": "stream",
     "text": [
      "8\t6\n",
      "8 2 None\n"
     ]
    }
   ],
   "source": [
    "D.last()\n",
    "print(D,D.show_queue())"
   ]
  },
  {
   "cell_type": "code",
   "execution_count": 49,
   "metadata": {},
   "outputs": [
    {
     "name": "stdout",
     "output_type": "stream",
     "text": [
      "8 2\n"
     ]
    }
   ],
   "source": [
    "print(D)"
   ]
  },
  {
   "cell_type": "code",
   "execution_count": null,
   "metadata": {},
   "outputs": [],
   "source": []
  }
 ],
 "metadata": {
  "kernelspec": {
   "display_name": "Python 3",
   "language": "python",
   "name": "python3"
  },
  "language_info": {
   "codemirror_mode": {
    "name": "ipython",
    "version": 3
   },
   "file_extension": ".py",
   "mimetype": "text/x-python",
   "name": "python",
   "nbconvert_exporter": "python",
   "pygments_lexer": "ipython3",
   "version": "3.6.3"
  }
 },
 "nbformat": 4,
 "nbformat_minor": 2
}
