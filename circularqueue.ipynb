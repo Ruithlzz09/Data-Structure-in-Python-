{
 "cells": [
  {
   "cell_type": "code",
   "execution_count": 70,
   "metadata": {},
   "outputs": [],
   "source": [
    "class _node:\n",
    "    \"\"\"A Lightweight non- public class to create nodes of linked list serves as Element of Queue\"\"\"\n",
    "\n",
    "\n",
    "    def __init__(self,e,next=None):\n",
    "        \"\"\" \"\"\"\n",
    "        self._element=e\n",
    "        self._next=next\n",
    "\n",
    "class CircularQueue(_node):\n",
    "    \"\"\"\"\"\"\n",
    "\n",
    "    def __init__(self,buffer=None): #buffer denotes using another Queue as base/initial elements for current Queue \n",
    "        \"\"\"It initialise Queue with its size and tail\"\"\"\n",
    "        self._tail,self._size=None,0\n",
    "        if buffer:\n",
    "            self._tail,self._size=buffer._tail,buffer._size\n",
    "\n",
    "    def __len__(self):\n",
    "        \"\"\"It returns the size of Queue\"\"\"\n",
    "        return self._size\n",
    "\n",
    "    def __str__(self,head=None):\n",
    "        \"\"\"It return the current head and size of Queue\"\"\"\n",
    "        if not(self.is_empty() ):\n",
    "            head=self._tail._next._element\n",
    "        return \"{0} {1}\".format(head,self._size)\n",
    "\n",
    "    def is_empty(self):\n",
    "        \"\"\"It checks whether Queue is Empty or not\"\"\"\n",
    "        return self._size==0\n",
    "\n",
    "    def first(self):\n",
    "        \"\"\"It returns the current head/first element of Queue\"\"\"\n",
    "        if self.is_empty():\n",
    "            print(\"Queue is Empty\")\n",
    "            return\n",
    "        return (self._tail._next)._element\n",
    "\n",
    "    def enqueue(self,e):\n",
    "        \"\"\"It is used to Enqueue/insert element in Queue\"\"\"\n",
    "        new=_node(e)\n",
    "        if self.is_empty():\n",
    "            new._next=new\n",
    "        else:\n",
    "            new._next=self._tail._next\n",
    "            self._tail._next=new\n",
    "        self._tail=new\n",
    "        self._size+=1\n",
    "        \n",
    "    def dequeue(self):\n",
    "        \"\"\" \"\"\"\n",
    "        if self.is_empty():\n",
    "            print(\"Queue is Empty\")\n",
    "            return\n",
    "        \n",
    "        oldhead=self._tail._next\n",
    "        \n",
    "        if self._size==1:\n",
    "            self._tail=None\n",
    "        else:\n",
    "            self._tail._next=oldhead._next\n",
    "        self._size-=1\n",
    "        return oldhead._element\n",
    "    \n",
    "    def show_queue(self):\n",
    "        \"\"\" \"\"\"\n",
    "        if self.is_empty():\n",
    "            print(\"Queue is Empty\")\n",
    "        else:\n",
    "            head=self._tail._next\n",
    "            while head!=self._tail:\n",
    "                print(head._element,end='\\t')\n",
    "                head=head._next\n",
    "            print(head._element)\n",
    "            \n",
    "\n",
    "\n"
   ]
  },
  {
   "cell_type": "code",
   "execution_count": 71,
   "metadata": {},
   "outputs": [
    {
     "name": "stdout",
     "output_type": "stream",
     "text": [
      "<__main__._node object at 0x0000000004E20A20>\n"
     ]
    }
   ],
   "source": [
    "x=_node(45,45)\n",
    "print(x)"
   ]
  },
  {
   "cell_type": "code",
   "execution_count": 96,
   "metadata": {},
   "outputs": [
    {
     "name": "stdout",
     "output_type": "stream",
     "text": [
      "None 0\n"
     ]
    }
   ],
   "source": [
    "q=CircularQueue()\n",
    "print(q)"
   ]
  },
  {
   "cell_type": "code",
   "execution_count": 97,
   "metadata": {},
   "outputs": [
    {
     "data": {
      "text/plain": [
       "0"
      ]
     },
     "execution_count": 97,
     "metadata": {},
     "output_type": "execute_result"
    }
   ],
   "source": [
    "len(q)"
   ]
  },
  {
   "cell_type": "code",
   "execution_count": 98,
   "metadata": {},
   "outputs": [
    {
     "name": "stdout",
     "output_type": "stream",
     "text": [
      "Queue is Empty\n"
     ]
    }
   ],
   "source": [
    "q.show_queue()"
   ]
  },
  {
   "cell_type": "code",
   "execution_count": 99,
   "metadata": {},
   "outputs": [
    {
     "name": "stdout",
     "output_type": "stream",
     "text": [
      "Queue is Empty\n"
     ]
    }
   ],
   "source": [
    "q.first()\n"
   ]
  },
  {
   "cell_type": "code",
   "execution_count": 100,
   "metadata": {},
   "outputs": [
    {
     "name": "stdout",
     "output_type": "stream",
     "text": [
      "455\n",
      "455 None\n",
      "\n",
      "455\n",
      "545\n",
      "<bound method CircularQueue.first of <__main__.CircularQueue object at 0x0000000004ECE828>> None\n",
      "\n",
      "545\n",
      "4475\n",
      "4475 None\n",
      "\n",
      "4475\n",
      "44845\n",
      "44845 None\n",
      "\n",
      "44845\n",
      "44875\n",
      "44875 None\n",
      "\n"
     ]
    }
   ],
   "source": [
    "q.enqueue(455)\n",
    "print(q.first(),q.show_queue(),end='\\n\\n')\n",
    "print(q.dequeue())\n",
    "q.enqueue(545)\n",
    "print(q.first,q.show_queue(),end='\\n\\n')\n",
    "print(q.dequeue())\n",
    "q.enqueue(4475)\n",
    "print(q.first(),q.show_queue(),end='\\n\\n')\n",
    "print(q.dequeue())\n",
    "q.enqueue(44845)\n",
    "print(q.first(),q.show_queue(),end='\\n\\n')\n",
    "print(q.dequeue())\n",
    "q.enqueue(44875)\n",
    "print(q.first(),q.show_queue(),end='\\n\\n')\n"
   ]
  },
  {
   "cell_type": "code",
   "execution_count": 101,
   "metadata": {},
   "outputs": [
    {
     "data": {
      "text/plain": [
       "44875"
      ]
     },
     "execution_count": 101,
     "metadata": {},
     "output_type": "execute_result"
    }
   ],
   "source": [
    "q.first()"
   ]
  },
  {
   "cell_type": "code",
   "execution_count": 102,
   "metadata": {},
   "outputs": [
    {
     "name": "stdout",
     "output_type": "stream",
     "text": [
      "44875\n"
     ]
    }
   ],
   "source": [
    "q.show_queue()"
   ]
  },
  {
   "cell_type": "code",
   "execution_count": null,
   "metadata": {},
   "outputs": [],
   "source": []
  }
 ],
 "metadata": {
  "kernelspec": {
   "display_name": "Python 3",
   "language": "python",
   "name": "python3"
  },
  "language_info": {
   "codemirror_mode": {
    "name": "ipython",
    "version": 3
   },
   "file_extension": ".py",
   "mimetype": "text/x-python",
   "name": "python",
   "nbconvert_exporter": "python",
   "pygments_lexer": "ipython3",
   "version": "3.6.3"
  }
 },
 "nbformat": 4,
 "nbformat_minor": 2
}
