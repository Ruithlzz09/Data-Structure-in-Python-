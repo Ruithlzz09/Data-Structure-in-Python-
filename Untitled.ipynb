{
 "cells": [
  {
   "cell_type": "code",
   "execution_count": 3,
   "metadata": {},
   "outputs": [],
   "source": [
    "class _item:\n",
    "    \"\"\"\"In python there is no diff. acess specifier.We use cultural convention to diff. whether \n",
    "    to use class's public,private and protected\"\"\"\n",
    "    \n",
    "    __slots__='_key','_value'\n",
    "    \n",
    "    def __init__(self,k,v):\n",
    "        \"\"\" \"\"\"\n",
    "        self._key=k\n",
    "        self._value=v\n",
    "    \n",
    "    "
   ]
  },
  {
   "cell_type": "code",
   "execution_count": null,
   "metadata": {},
   "outputs": [],
   "source": [
    "class PriorityQueueBase(_item):\n",
    "    \"\"\" \"\"\"\n",
    "    \n",
    "    def is_empty(self):\n",
    "        \"\"\" \"\"\"\n",
    "        return self._size==0"
   ]
  }
 ],
 "metadata": {
  "kernelspec": {
   "display_name": "Python 3",
   "language": "python",
   "name": "python3"
  },
  "language_info": {
   "codemirror_mode": {
    "name": "ipython",
    "version": 3
   },
   "file_extension": ".py",
   "mimetype": "text/x-python",
   "name": "python",
   "nbconvert_exporter": "python",
   "pygments_lexer": "ipython3",
   "version": "3.6.3"
  }
 },
 "nbformat": 4,
 "nbformat_minor": 2
}
