{
 "cells": [
  {
   "cell_type": "code",
   "execution_count": 14,
   "metadata": {},
   "outputs": [],
   "source": [
    "class _node:\n",
    "\t\"\"\"A Lightweight class to create nodes of linked list serves as Element of Queue\"\"\"\n",
    "\n",
    "\n",
    "\tdef __init__(self,e,next=None):\n",
    "\t\t\"\"\" \"\"\"\n",
    "\t\tself._element=e\n",
    "\t\tself._next=next"
   ]
  },
  {
   "cell_type": "code",
   "execution_count": 62,
   "metadata": {},
   "outputs": [],
   "source": [
    "class LinkedQueue(_node):\n",
    "\t\"\"\" \"\"\"\n",
    "\n",
    "    def __init__(self,buffer=None):\n",
    "        \"\"\" \"\"\"\n",
    "        self._head,self._tail,self._size=None,None,0\n",
    "        if buffer:\n",
    "            self._head,self._tail=buffer._head,buffer._tail\n",
    "            self._size=len(buffer)\n",
    "\n",
    "    def is_empty(self):\n",
    "        \"\"\"It checks whether Queue is Empty or not\"\"\"\n",
    "        return self._size==0\n",
    "\n",
    "    def first(self):\n",
    "        \"\"\"It returns the current head/first element of Queue\"\"\"\n",
    "        if self.is_empty():\n",
    "            print(\"Queue is Empty\")\n",
    "            return\n",
    "        return self._head._element\n",
    "\n",
    "\tdef dequeue(self):\n",
    "\t\t\"\"\" \"\"\"\n",
    "\t\tif self.is_empty():\n",
    "\t\t\tprint(\"Queue is Empty\")\n",
    "\t\t\treturn\n",
    "\n",
    "\t\tans=self._head._element\n",
    "\t\tself._head=self._head._next\n",
    "\t\tself._size-=1\n",
    "\t\treturn ans\n",
    "\n",
    "\tdef enqueue(self,e):\n",
    "\t\t\"\"\"It is used to Enqueue/insert element in Queue\"\"\"\n",
    "\t\tnew=_node(e)\n",
    "\t\tif self.is_empty():\n",
    "\t\t\tself._head=new\n",
    "\t\telse:\n",
    "\t\t\tself._tail._next=new\n",
    "\t\tself._tail=new\n",
    "\t\tself._size+=1\n",
    "\n",
    "\tdef show_queue(self):\n",
    "\t\t\"\"\" \"\"\"\n",
    "\t\tif self.is_empty():\n",
    "\t\t\tprint(\"Queue is Empty\")\n",
    "\t\telse:\n",
    "\t\t\thead=self._head\n",
    "\t\t\twhile head!=self._tail._next:\n",
    "\t\t\t\tprint(head._element,end='\\t')\n",
    "\t\t\t\thead=head._next\n",
    "\n",
    "\n",
    "\t\t\n",
    "\tdef __str__(self,head=None,tail=None):\n",
    "\t\t\t\"\"\"It return the current head and size of Queue\"\"\"\n",
    "\t\t\tif not(self.is_empty()):\n",
    "\t\t\t\thead=self._head._element\n",
    "\t\t\t\ttail=self._tail._element\n",
    "\t\t\treturn \"head:{0} tail:{1} size:{2}\".format(head,tail,self._size)\n",
    "\n",
    "\tdef __len__(self):\n",
    "\t\t\"\"\"It returns the size of Queue\"\"\"\n",
    "\t\treturn self._size\n"
   ]
  },
  {
   "cell_type": "code",
   "execution_count": 63,
   "metadata": {},
   "outputs": [],
   "source": [
    "c=LinkedQueue()"
   ]
  },
  {
   "cell_type": "code",
   "execution_count": 64,
   "metadata": {},
   "outputs": [
    {
     "name": "stdout",
     "output_type": "stream",
     "text": [
      "head:None tail:None size:0\n"
     ]
    }
   ],
   "source": [
    "print(c)"
   ]
  },
  {
   "cell_type": "code",
   "execution_count": 65,
   "metadata": {},
   "outputs": [
    {
     "data": {
      "text/plain": [
       "0"
      ]
     },
     "execution_count": 65,
     "metadata": {},
     "output_type": "execute_result"
    }
   ],
   "source": [
    "len(c)"
   ]
  },
  {
   "cell_type": "code",
   "execution_count": 66,
   "metadata": {},
   "outputs": [
    {
     "name": "stdout",
     "output_type": "stream",
     "text": [
      "Queue is Empty\n"
     ]
    }
   ],
   "source": [
    "c.first()"
   ]
  },
  {
   "cell_type": "code",
   "execution_count": 67,
   "metadata": {},
   "outputs": [],
   "source": [
    "c.enqueue(45)"
   ]
  },
  {
   "cell_type": "code",
   "execution_count": 68,
   "metadata": {},
   "outputs": [
    {
     "data": {
      "text/plain": [
       "45"
      ]
     },
     "execution_count": 68,
     "metadata": {},
     "output_type": "execute_result"
    }
   ],
   "source": [
    "c.first()"
   ]
  },
  {
   "cell_type": "code",
   "execution_count": 69,
   "metadata": {},
   "outputs": [
    {
     "name": "stdout",
     "output_type": "stream",
     "text": [
      "head:45 tail:45 size:1\n"
     ]
    }
   ],
   "source": [
    "print(c)"
   ]
  },
  {
   "cell_type": "code",
   "execution_count": 70,
   "metadata": {},
   "outputs": [],
   "source": [
    "c.enqueue(54)\n",
    "c.enqueue(48)"
   ]
  },
  {
   "cell_type": "code",
   "execution_count": 71,
   "metadata": {},
   "outputs": [
    {
     "data": {
      "text/plain": [
       "45"
      ]
     },
     "execution_count": 71,
     "metadata": {},
     "output_type": "execute_result"
    }
   ],
   "source": [
    "c.first()"
   ]
  },
  {
   "cell_type": "code",
   "execution_count": 72,
   "metadata": {},
   "outputs": [
    {
     "name": "stdout",
     "output_type": "stream",
     "text": [
      "45\n"
     ]
    },
    {
     "data": {
      "text/plain": [
       "54"
      ]
     },
     "execution_count": 72,
     "metadata": {},
     "output_type": "execute_result"
    }
   ],
   "source": [
    "print(c.dequeue() )\n",
    "c.first()\n"
   ]
  },
  {
   "cell_type": "code",
   "execution_count": 73,
   "metadata": {},
   "outputs": [
    {
     "name": "stdout",
     "output_type": "stream",
     "text": [
      "54\t48\t"
     ]
    }
   ],
   "source": [
    "c.show_queue()"
   ]
  },
  {
   "cell_type": "code",
   "execution_count": 74,
   "metadata": {},
   "outputs": [
    {
     "name": "stdout",
     "output_type": "stream",
     "text": [
      "head:54 tail:48 size:2\n"
     ]
    }
   ],
   "source": [
    "print(c)"
   ]
  },
  {
   "cell_type": "code",
   "execution_count": null,
   "metadata": {},
   "outputs": [],
   "source": []
  }
 ],
 "metadata": {
  "kernelspec": {
   "display_name": "Python 3",
   "language": "python",
   "name": "python3"
  },
  "language_info": {
   "codemirror_mode": {
    "name": "ipython",
    "version": 3
   },
   "file_extension": ".py",
   "mimetype": "text/x-python",
   "name": "python",
   "nbconvert_exporter": "python",
   "pygments_lexer": "ipython3",
   "version": "3.6.3"
  }
 },
 "nbformat": 4,
 "nbformat_minor": 2
}
